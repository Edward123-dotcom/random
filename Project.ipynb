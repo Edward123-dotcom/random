{
 "cells": [
  {
   "cell_type": "markdown",
   "id": "5b33c42b-d72d-4361-bf45-244f1d5601f9",
   "metadata": {},
   "source": [
    "# Data Science Tools and Ecosystem \n"
   ]
  },
  {
   "cell_type": "markdown",
   "id": "6b89b137-149a-4b2a-b004-6d740012faa2",
   "metadata": {},
   "source": [
    "#### **In this notebook, Data Science Tools and Ecosystem are summarized.**"
   ]
  },
  {
   "cell_type": "markdown",
   "id": "cf79ba36-903f-4974-adbf-64af2bc7d9db",
   "metadata": {},
   "source": [
    "Some of the popular languages that Data Scientists use are:\n",
    "1. Python\n",
    "2. R\n",
    "3. SQL"
   ]
  },
  {
   "cell_type": "markdown",
   "id": "797a9304-cba5-4040-b705-3dc2079d401e",
   "metadata": {},
   "source": [
    "Some of the commonly used libraries used by Data Scientists include:\n",
    "1. Matplotlib\n",
    "2. NumPy\n",
    "3. Scikit-learn\n",
    "4. Pandas"
   ]
  },
  {
   "cell_type": "markdown",
   "id": "6e1642b6-742f-402d-97e1-16559c3a9793",
   "metadata": {},
   "source": [
    "| Data Science Tools | \n",
    "|--------------------|\n",
    "| Jupyter Notebook | \n",
    "| RStudio | \n",
    "| Apache | \n"
   ]
  },
  {
   "cell_type": "markdown",
   "id": "40b6088a-6822-4eb6-bac2-f97f6f6ad19e",
   "metadata": {},
   "source": [
    "### Below are a few examples of evaluating arithmetic expressions in Python"
   ]
  },
  {
   "cell_type": "code",
   "execution_count": 17,
   "id": "71b986b9-f4a0-422f-b172-4d6517672d02",
   "metadata": {},
   "outputs": [
    {
     "data": {
      "text/plain": [
       "17"
      ]
     },
     "execution_count": 17,
     "metadata": {},
     "output_type": "execute_result"
    }
   ],
   "source": [
    "(3*4)+5\n",
    "# This a simple arithmetic expression to mutiply then add integers"
   ]
  },
  {
   "cell_type": "code",
   "execution_count": 21,
   "id": "fa2cc24d-197e-4738-9726-8f84127c99f8",
   "metadata": {},
   "outputs": [
    {
     "name": "stdout",
     "output_type": "stream",
     "text": [
      "200 minutes are 3.3333333333333335 hours\n"
     ]
    }
   ],
   "source": [
    "# This will convert 200 minutes to hours by diving by 60\n",
    "minutes=200; \n",
    "hours=200/60;\n",
    "print(\"200 minutes are\", hours, \"hours\")"
   ]
  },
  {
   "cell_type": "markdown",
   "id": "f897d1c6-df5c-46b1-bc05-11b0679fa34c",
   "metadata": {},
   "source": [
    "**Objectives:**\n",
    "\n",
    "- List popular languages for Data Science\n",
    "- Identify commonly used libraries in Data Science\n",
    "- Highlight open source tools used for Data Science development environments\n",
    "- Understand basic arithmetic expressions in Python"
   ]
  },
  {
   "cell_type": "markdown",
   "id": "8062beb4-3de3-4776-b877-c247e2729bc4",
   "metadata": {},
   "source": [
    "## Author \n",
    "**Edward Ulises Gómez Padilla**"
   ]
  }
 ],
 "metadata": {
  "kernelspec": {
   "display_name": "Python [conda env:base] *",
   "language": "python",
   "name": "conda-base-py"
  },
  "language_info": {
   "codemirror_mode": {
    "name": "ipython",
    "version": 3
   },
   "file_extension": ".py",
   "mimetype": "text/x-python",
   "name": "python",
   "nbconvert_exporter": "python",
   "pygments_lexer": "ipython3",
   "version": "3.12.7"
  }
 },
 "nbformat": 4,
 "nbformat_minor": 5
}
